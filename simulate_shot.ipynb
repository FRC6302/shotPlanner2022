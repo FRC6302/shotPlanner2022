{
 "cells": [
  {
   "cell_type": "code",
   "execution_count": 2,
   "metadata": {},
   "outputs": [],
   "source": [
    "from scipy.integrate import solve_ivp\n",
    "import numpy as np\n",
    "import matplotlib.pyplot as plt\n",
    "import matplotlib.patches as mpatches\n",
    "from math import sqrt\n"
   ]
  },
  {
   "cell_type": "code",
   "execution_count": 3,
   "metadata": {},
   "outputs": [],
   "source": [
    "rim_width = 1.2192 #4ft\n",
    "rim_height = 2.64\n",
    "cargo_radius = 0.2413/2\n",
    "\n",
    "def flight_model(t, s):\n",
    "    x, vx, y, vy = s\n",
    "    dx = vx\n",
    "    dvx = 0\n",
    "    dy = vy\n",
    "    dvy = -9.8\n",
    "    return [dx, dvx, dy, dvy]\n",
    "\n",
    "def hit_ground(t, s):\n",
    "    x, vx, y, vy = s\n",
    "    return y\n",
    "hit_ground.terminal = True\n",
    "\n",
    "def hit_rim(t, s):\n",
    "    x, vx, y, vy = s\n",
    "    dist_to_rim = min(x - -rim_width/2, -(y - rim_height)) #positive if cargo is down and to the right of closest rim\n",
    "    return dist_to_rim + cargo_radius\n",
    "hit_rim.terminal = True\n",
    "\n",
    "def passed_rim(t, s):\n",
    "    x, vx, y, vy = s\n",
    "    return x - rim_width/2\n",
    "passed_rim.terminal = True"
   ]
  },
  {
   "cell_type": "code",
   "execution_count": 4,
   "metadata": {},
   "outputs": [
    {
     "name": "stdout",
     "output_type": "stream",
     "text": [
      "undershot\n"
     ]
    },
    {
     "data": {
      "image/png": "[encoded data removed]",
      "text/plain": [
       "<Figure size 432x288 with 1 Axes>"
      ]
     },
     "metadata": {
      "needs_background": "light"
     },
     "output_type": "display_data"
    },
    {
     "name": "stdout",
     "output_type": "stream",
     "text": [
      "result: -1\n"
     ]
    }
   ],
   "source": [
    "def try_shot(s0, doShow):\n",
    "    t_span = (0, 5.0)\n",
    "    solution = solve_ivp(flight_model, t_span, s0, events=[hit_ground, hit_rim, passed_rim], max_step=0.2)\n",
    "\n",
    "    result = 0 #default is success\n",
    "    if(solution.y[0][-1] < -rim_width/2):\n",
    "        result = -1 #undershot\n",
    "    elif(solution.y[0][-1] > rim_width/2 - cargo_radius):\n",
    "        result = 1 #overshot\n",
    "\n",
    "    if doShow:\n",
    "\n",
    "        if result == -1: print(\"undershot\")\n",
    "        elif result == 0: print(\"success\")\n",
    "        elif result == 1: print(\"overshot\")\n",
    "\n",
    "        plt.plot(solution.y[0, :], solution.y[2, :], 'bo')\n",
    "\n",
    "        left, bottom, width, height = (-rim_width/2, 0, rim_width, rim_height)\n",
    "        rect=mpatches.Rectangle((left,bottom), width, height, fill=False, color=\"purple\", linewidth=2)\n",
    "        plt.gca().add_patch(rect)\n",
    "        plt.gca().set_aspect('equal', adjustable='box')\n",
    "        plt.show()\n",
    "\n",
    "    return result\n",
    "\n",
    "#s0 is [xpos, xvel, ypos, yvel]\n",
    "print(\"result:\", try_shot(s0=[-4, 3, 0.2, 7], doShow=True))\n"
   ]
  },
  {
   "cell_type": "code",
   "execution_count": 16,
   "metadata": {},
   "outputs": [
    {
     "name": "stdout",
     "output_type": "stream",
     "text": [
      "everything shape (20, 8, 12, 8)\n",
      "x pos index 0 of 20\n",
      "x pos index 1 of 20\n",
      "x pos index 2 of 20\n",
      "x pos index 3 of 20\n",
      "x pos index 4 of 20\n",
      "x pos index 5 of 20\n",
      "x pos index 6 of 20\n",
      "x pos index 7 of 20\n",
      "x pos index 8 of 20\n",
      "x pos index 9 of 20\n",
      "x pos index 10 of 20\n",
      "x pos index 11 of 20\n",
      "x pos index 12 of 20\n",
      "x pos index 13 of 20\n",
      "x pos index 14 of 20\n",
      "x pos index 15 of 20\n",
      "x pos index 16 of 20\n",
      "x pos index 17 of 20\n",
      "x pos index 18 of 20\n",
      "x pos index 19 of 20\n",
      "done\n"
     ]
    }
   ],
   "source": [
    "x_range = np.arange(-6, -1, 0.25)\n",
    "vx_range = np.arange(1, 5, 0.5)\n",
    "y_range = np.arange(0.2, 1.4, 0.1)\n",
    "vy_range = np.arange(7, 15, 1)\n",
    "\n",
    "everything = np.zeros((x_range.size, vx_range.size, y_range.size, vy_range.size))\n",
    "print(\"everything shape\", everything.shape)\n",
    "\n",
    "heatmap = np.zeros((x_range.size, y_range.size, 3))\n",
    "vel_combos = vx_range.size * vy_range.size\n",
    "\n",
    "for xi in range(x_range.size):\n",
    "    for yi in range(y_range.size):\n",
    "\n",
    "        num_zeros = 0\n",
    "\n",
    "        for vxi in range(vx_range.size):\n",
    "            for vyi in range(vy_range.size):\n",
    "                cell = try_shot(s0=[x_range[xi], vx_range[vxi], y_range[yi], vy_range[vyi]], doShow=False)\n",
    "                everything[xi][vxi][yi][vyi] = cell\n",
    "                if cell == 0:\n",
    "                    num_zeros += 1\n",
    "\n",
    "        heatmap[xi, yi, 0] = num_zeros / vel_combos #overall probability of hitting target \n",
    "\n",
    "\n",
    "\n",
    "    print(f'x pos index {xi} of {x_range.size}')\n",
    "\n",
    "print(\"done\")"
   ]
  },
  {
   "cell_type": "code",
   "execution_count": 27,
   "metadata": {},
   "outputs": [
    {
     "data": {
      "text/plain": [
       "<matplotlib.patches.Rectangle at 0x14383a760>"
      ]
     },
     "execution_count": 27,
     "metadata": {},
     "output_type": "execute_result"
    },
    {
     "data": {
      "image/png": "[encoded data removed]",
      "text/plain": [
       "<Figure size 432x288 with 2 Axes>"
      ]
     },
     "metadata": {
      "needs_background": "light"
     },
     "output_type": "display_data"
    }
   ],
   "source": [
    "import seaborn as sns\n",
    "\n",
    "overall_prob = heatmap[:, :, 0]\n",
    "overall_prob = np.swapaxes(overall_prob, 0, 1)\n",
    "\n",
    "xlabels = np.round(np.append(x_range, np.arange(min(x_range), 1, 0.25)), 2)\n",
    "ylabels = np.round(np.append(y_range, np.arange(min(y_range), 3, 0.1)), 2)\n",
    "\n",
    "ax = sns.heatmap(overall_prob, xticklabels=xlabels, yticklabels=ylabels, cmap='viridis')\n",
    "ax.invert_yaxis()\n",
    "\n",
    "left, bottom, width, height = (-rim_width/2, 0, rim_width, rim_height)\n",
    "\n",
    "ax.add_patch(mpatches.Rectangle((left, bottom), width, height, edgecolor='red', fill=False, lw=1))\n"
   ]
  },
  {
   "cell_type": "code",
   "execution_count": 19,
   "metadata": {},
   "outputs": [
    {
     "name": "stdout",
     "output_type": "stream",
     "text": [
      "success\n"
     ]
    },
    {
     "data": {
      "image/png": "[encoded data removed]",
      "text/plain": [
       "<Figure size 432x288 with 1 Axes>"
      ]
     },
     "metadata": {
      "needs_background": "light"
     },
     "output_type": "display_data"
    },
    {
     "data": {
      "text/plain": [
       "0"
      ]
     },
     "execution_count": 19,
     "metadata": {},
     "output_type": "execute_result"
    }
   ],
   "source": [
    "try_shot(s0=[-2.8, 2.5, 0.4, 8], doShow=1)"
   ]
  },
  {
   "cell_type": "code",
   "execution_count": 7,
   "metadata": {},
   "outputs": [
    {
     "name": "stdout",
     "output_type": "stream",
     "text": [
      "at x -2.0 and y 0.6000000000000001\n",
      "[[-1. -1.  0.  0.  0.  0.  0.  1.]\n",
      " [ 0.  0.  0.  1.  1.  1.  1.  1.]\n",
      " [ 0.  1.  1.  1.  1.  1.  1.  1.]\n",
      " [ 0.  1.  1.  1.  1.  1.  1.  1.]\n",
      " [ 1.  1.  1.  1.  1.  1.  1.  1.]\n",
      " [ 1.  1.  1.  1.  1.  1.  1.  1.]\n",
      " [ 1.  1.  1.  1.  1.  1.  1.  1.]\n",
      " [ 1.  1.  1.  1.  1.  1.  1.  1.]]\n"
     ]
    },
    {
     "data": {
      "text/plain": [
       "<matplotlib.image.AxesImage at 0x1437cd250>"
      ]
     },
     "execution_count": 7,
     "metadata": {},
     "output_type": "execute_result"
    },
    {
     "data": {
      "image/png": "[encoded data removed]",
      "text/plain": [
       "<Figure size 432x288 with 1 Axes>"
      ]
     },
     "metadata": {
      "needs_background": "light"
     },
     "output_type": "display_data"
    }
   ],
   "source": [
    "xi, yi = 8, 2\n",
    "x, y = x_range[xi], y_range[yi]\n",
    "print(\"at x\", x, \"and y\", y)\n",
    "print(everything[xi, :, yi, :])\n",
    "plt.figure()\n",
    "plt.imshow(everything[xi, :, yi, :])\n",
    "\n",
    "# def avg(range_tuple):\n",
    "#     return (range_tuple[0] + range_tuple[1]) * 0.5\n",
    "\n",
    "# x = -4\n",
    "# vx = 3\n",
    "# y = 0.5\n",
    "# vy = 8\n",
    "# prev_result = 0\n",
    "\n",
    "# #find the max x\n",
    "# x = avg((x, x_range[1]))\n",
    "# result = try_shot([x, vx, y, vy], doShow=False)\n",
    "# if(result == -1):\n",
    "#     x = avg((x, x_range[1]))\n",
    "# elif(result == 0):\n",
    "#     x = avg((x, x_range[1]))\n",
    "# elif(result == 1):\n",
    "#     x = avg((x, x_range[1]))\n"
   ]
  },
  {
   "cell_type": "code",
   "execution_count": 8,
   "metadata": {},
   "outputs": [
    {
     "name": "stdout",
     "output_type": "stream",
     "text": [
      "success\n"
     ]
    },
    {
     "data": {
      "image/png": "[encoded data removed]",
      "text/plain": [
       "<Figure size 432x288 with 1 Axes>"
      ]
     },
     "metadata": {
      "needs_background": "light"
     },
     "output_type": "display_data"
    },
    {
     "data": {
      "text/plain": [
       "0"
      ]
     },
     "execution_count": 8,
     "metadata": {},
     "output_type": "execute_result"
    }
   ],
   "source": [
    "try_shot(s0=[-3, 1.25, 0.6, 11], doShow=True)"
   ]
  }
 ],
 "metadata": {
  "interpreter": {
   "hash": "31f2aee4e71d21fbe5cf8b01ff0e069b9275f58929596ceb00d14d90e3e16cd6"
  },
  "kernelspec": {
   "display_name": "Python 3.8.2 64-bit",
   "language": "python",
   "name": "python3"
  },
  "language_info": {
   "codemirror_mode": {
    "name": "ipython",
    "version": 3
   },
   "file_extension": ".py",
   "mimetype": "text/x-python",
   "name": "python",
   "nbconvert_exporter": "python",
   "pygments_lexer": "ipython3",
   "version": "3.9.5"
  },
  "orig_nbformat": 4
 },
 "nbformat": 4,
 "nbformat_minor": 2
}
